{
  "nbformat": 4,
  "nbformat_minor": 0,
  "metadata": {
    "colab": {
      "name": "Exercicios_Arquivos_http_json.ipynb",
      "provenance": [],
      "collapsed_sections": [],
      "toc_visible": true,
      "include_colab_link": true
    },
    "kernelspec": {
      "name": "python3",
      "display_name": "Python 3"
    }
  },
  "cells": [
    {
      "cell_type": "markdown",
      "metadata": {
        "id": "view-in-github",
        "colab_type": "text"
      },
      "source": [
        "<a href=\"https://colab.research.google.com/github/rdemarqui/Estudos/blob/master/Exercicios_Arquivos_http_json.ipynb\" target=\"_parent\"><img src=\"https://colab.research.google.com/assets/colab-badge.svg\" alt=\"Open In Colab\"/></a>"
      ]
    },
    {
      "cell_type": "markdown",
      "metadata": {
        "id": "EzztbdQ_7QVn",
        "colab_type": "text"
      },
      "source": [
        "# Exercícios em Python 5: Biblioteca padrão python, arquivos, http, json\n",
        "\n",
        "\n"
      ]
    },
    {
      "cell_type": "markdown",
      "metadata": {
        "id": "u7BDz8O1qaMd",
        "colab_type": "text"
      },
      "source": [
        "## Preparando o ambiente\n",
        "\n",
        "Este notebook usa códigos no pacote ceai_python_aula04.py.\n",
        "Verifique se o seu google drive contém a pasta cursoai_python_aula_04.\n",
        "\n",
        "Em seguida execute o código a seguir."
      ]
    },
    {
      "cell_type": "code",
      "metadata": {
        "id": "wo0Ow_IdVgtZ",
        "colab_type": "code",
        "colab": {
          "base_uri": "https://localhost:8080/",
          "height": 121
        },
        "outputId": "e310bdc8-3e23-4ba7-a6bf-a1bf3ba61bd1"
      },
      "source": [
        "from google.colab import drive\n",
        "import sys\n",
        "drive.mount('/content/gdrive', force_remount=True)\n",
        "sys.path.append('/content/gdrive/My Drive/cursoai_python_aula_03')\n",
        "sys.path.append('/content/gdrive/My Drive/cursoai_exercicios')"
      ],
      "execution_count": 1,
      "outputs": [
        {
          "output_type": "stream",
          "text": [
            "Go to this URL in a browser: https://accounts.google.com/o/oauth2/auth?client_id=947318989803-6bn6qk8qdgf4n4g3pfee6491hc0brc4i.apps.googleusercontent.com&redirect_uri=urn%3aietf%3awg%3aoauth%3a2.0%3aoob&response_type=code&scope=email%20https%3a%2f%2fwww.googleapis.com%2fauth%2fdocs.test%20https%3a%2f%2fwww.googleapis.com%2fauth%2fdrive%20https%3a%2f%2fwww.googleapis.com%2fauth%2fdrive.photos.readonly%20https%3a%2f%2fwww.googleapis.com%2fauth%2fpeopleapi.readonly\n",
            "\n",
            "Enter your authorization code:\n",
            "··········\n",
            "Mounted at /content/gdrive\n"
          ],
          "name": "stdout"
        }
      ]
    },
    {
      "cell_type": "markdown",
      "metadata": {
        "id": "Rou0RcBHC-Z3",
        "colab_type": "text"
      },
      "source": [
        "Se o bloco acima foi executado corretamente, importe os símbolos com a linha seguinte:"
      ]
    },
    {
      "cell_type": "code",
      "metadata": {
        "id": "r9Q1G0SXu-Ir",
        "colab_type": "code",
        "outputId": "b3549fce-3461-4a8b-e6d9-af0328cdd2c6",
        "colab": {
          "base_uri": "https://localhost:8080/",
          "height": 50
        }
      },
      "source": [
        "import ceai_python_aula07\n",
        "import importlib\n",
        "importlib.reload(ceai_python_aula07)"
      ],
      "execution_count": 76,
      "outputs": [
        {
          "output_type": "stream",
          "text": [
            "Ambiente inicializado com sucesso\n"
          ],
          "name": "stdout"
        },
        {
          "output_type": "execute_result",
          "data": {
            "text/plain": [
              "<module 'ceai_python_aula07' from '/content/gdrive/My Drive/cursoai_python_aula_03/ceai_python_aula07.py'>"
            ]
          },
          "metadata": {
            "tags": []
          },
          "execution_count": 76
        }
      ]
    },
    {
      "cell_type": "markdown",
      "metadata": {
        "id": "bdTCDbolwdYj",
        "colab_type": "text"
      },
      "source": [
        "## 5.1  Arquivos\n",
        "\n",
        "A linguagem Python tem uma biblioteca de arquivos.\n",
        "\n",
        "Arquivos são abertos com a função ```open```.\n",
        "\n",
        "O código abaixo cria um arquivo ```teste.txt``` dentro do diretório ```content```, que é o diretório padrão do colab."
      ]
    },
    {
      "cell_type": "code",
      "metadata": {
        "id": "VBQEHIv0wtR2",
        "colab_type": "code",
        "colab": {}
      },
      "source": [
        "arquivo = open(\"teste.txt\", \"tw\")\n",
        "arquivo.close()"
      ],
      "execution_count": 0,
      "outputs": []
    },
    {
      "cell_type": "markdown",
      "metadata": {
        "id": "v6zPjtNNxVj0",
        "colab_type": "text"
      },
      "source": [
        "Verifique na aba de arquivos que existe o arquivo teste.txt.\n",
        "\n",
        "a função ```open``` retorna um objeto de arquivo.\n",
        "\n",
        "Escreve-se em arquivos com o método ```write```.\n",
        "\n",
        "Por exemplo, o código abaixo escreve ```Isso é um teste``` no arquivo ```teste.txt```:"
      ]
    },
    {
      "cell_type": "code",
      "metadata": {
        "id": "rXBGURSgxxlL",
        "colab_type": "code",
        "colab": {}
      },
      "source": [
        "arquivo = open(\"teste.txt\", \"tw\")\n",
        "arquivo.write(\"Isso é um teste\")\n",
        "arquivo.close()"
      ],
      "execution_count": 0,
      "outputs": []
    },
    {
      "cell_type": "markdown",
      "metadata": {
        "id": "iA6tm_v5x685",
        "colab_type": "text"
      },
      "source": [
        "Verifique o conteúdo do arquivo.\n",
        "\n",
        "O arquivo aberto com o modo \"tw\" é um arquivo aberto em modo texto para escrita truncada, ou seja, o conteúdo original do arquivo é *destruído*.\n",
        "\n",
        "Um arquivo pode ser lido com as funções ```read```, que retorna todo o conteúdo do arquivo, a função ```readline()``` que lê uma única linha do arquivo e a função ```readlines``` que lê *todas* as linhas de um arquivo.\n",
        "\n",
        "Por exemplo, o código a seguir lê a primeira linha do arquivo criado anteriormente."
      ]
    },
    {
      "cell_type": "code",
      "metadata": {
        "id": "LK6RFjM90J-b",
        "colab_type": "code",
        "outputId": "96450ac3-4af1-40cc-d028-200110fa315a",
        "colab": {
          "base_uri": "https://localhost:8080/",
          "height": 34
        }
      },
      "source": [
        "arquivo = open(\"teste.txt\", \"tr\")\n",
        "print(arquivo.readline())\n",
        "arquivo.close()"
      ],
      "execution_count": 5,
      "outputs": [
        {
          "output_type": "stream",
          "text": [
            "Isso é um teste\n"
          ],
          "name": "stdout"
        }
      ]
    },
    {
      "cell_type": "markdown",
      "metadata": {
        "id": "pEH3Wz4p1cTT",
        "colab_type": "text"
      },
      "source": [
        "### Exercício 5.1.1\n",
        "\n",
        "Leia todas as linhas do arquivo ```/content/gdrive/My Drive/cursoai_python_aula_03/dados/dados01.txt``` e coloque-as em uma sequência na variável ```linhas```"
      ]
    },
    {
      "cell_type": "code",
      "metadata": {
        "id": "xOZTUoIk17wF",
        "colab_type": "code",
        "colab": {
          "base_uri": "https://localhost:8080/",
          "height": 34
        },
        "outputId": "c1be20e2-105d-49a8-85a0-4e937e01e474"
      },
      "source": [
        "dados01 = open(\"/content/gdrive/My Drive/cursoai_python_aula_03/dados/dados01.txt\", \"tr\")\n",
        "\n",
        "linhas = []\n",
        "for i in range(10):\n",
        "  linhas.append(dados01.readline())\n",
        "\n",
        "print(linhas)"
      ],
      "execution_count": 24,
      "outputs": [
        {
          "output_type": "stream",
          "text": [
            "['10\\n', '9\\n', '8\\n', '7\\n', '6\\n', '5\\n', '4\\n', '3\\n', '2\\n', '1']\n"
          ],
          "name": "stdout"
        }
      ]
    },
    {
      "cell_type": "code",
      "metadata": {
        "id": "f9K_nXq7h0Yc",
        "colab_type": "code",
        "colab": {
          "base_uri": "https://localhost:8080/",
          "height": 34
        },
        "outputId": "0d331251-2765-40e3-a765-c4ec239799e5"
      },
      "source": [
        "linhas"
      ],
      "execution_count": 22,
      "outputs": [
        {
          "output_type": "execute_result",
          "data": {
            "text/plain": [
              "'10\\n9\\n8\\n7\\n6\\n5\\n4\\n3\\n2\\n1'"
            ]
          },
          "metadata": {
            "tags": []
          },
          "execution_count": 22
        }
      ]
    },
    {
      "cell_type": "markdown",
      "metadata": {
        "id": "tHMiSK4Z18Pt",
        "colab_type": "text"
      },
      "source": [
        "Teste sua resposta:"
      ]
    },
    {
      "cell_type": "code",
      "metadata": {
        "id": "RZe6XY_M19zr",
        "colab_type": "code",
        "colab": {
          "base_uri": "https://localhost:8080/",
          "height": 38
        },
        "outputId": "0b6e027c-e4ab-418d-83b7-c15ce7a5c779"
      },
      "source": [
        "ceai_python_aula07.valida_ex_05_01_01(linhas)"
      ],
      "execution_count": 25,
      "outputs": [
        {
          "output_type": "execute_result",
          "data": {
            "text/html": [
              "<div style=\"border-style:solid;border-color:green\">Exercício Correto!</div>"
            ],
            "text/plain": [
              "<ceai_python_aula07.SolucaoResultado at 0x7fa0712cd320>"
            ]
          },
          "metadata": {
            "tags": []
          },
          "execution_count": 25
        }
      ]
    },
    {
      "cell_type": "markdown",
      "metadata": {
        "id": "aOYvkNYM4naH",
        "colab_type": "text"
      },
      "source": [
        "### Exercício 5.1.2\n",
        "\n",
        "Procure usando Python no arquivo ```/content/gdrive/My Drive/cursoai_python_aula_03/dados/dados02.txt``` uma linha iniciada por ```parametro_01```...\n",
        "Atribua à variável ```linha``` o conteúdo desta linha.\n",
        "\n",
        "*Sugestão*: O método ```.startswith(valor)``` retorna ```True``` se a string sobre a qual é chamado inicia-se com ```valor```."
      ]
    },
    {
      "cell_type": "code",
      "metadata": {
        "id": "GtZVcgrc4mkK",
        "colab_type": "code",
        "colab": {}
      },
      "source": [
        "dados02 = open(\"/content/gdrive/My Drive/cursoai_python_aula_03/dados/dados02.txt\", \"tr\")\n",
        "while True:\n",
        "  linha = dados02.readline()\n",
        "  if linha.startswith('parametro_01') == True:\n",
        "    break\n",
        "  if len(linha) == 0:\n",
        "    break"
      ],
      "execution_count": 0,
      "outputs": []
    },
    {
      "cell_type": "markdown",
      "metadata": {
        "id": "GYY3zawx5Dwh",
        "colab_type": "text"
      },
      "source": [
        "Teste sua resposta:"
      ]
    },
    {
      "cell_type": "code",
      "metadata": {
        "id": "W5vSzRR74m5K",
        "colab_type": "code",
        "colab": {
          "base_uri": "https://localhost:8080/",
          "height": 38
        },
        "outputId": "c7de2106-8de2-4a1b-dc98-2704b79b97d2"
      },
      "source": [
        "ceai_python_aula07.valida_ex_05_01_02(linha)"
      ],
      "execution_count": 63,
      "outputs": [
        {
          "output_type": "execute_result",
          "data": {
            "text/html": [
              "<div style=\"border-style:solid;border-color:green\">Exercício Correto!</div>"
            ],
            "text/plain": [
              "<ceai_python_aula07.SolucaoResultado at 0x7fa071232748>"
            ]
          },
          "metadata": {
            "tags": []
          },
          "execution_count": 63
        }
      ]
    },
    {
      "cell_type": "markdown",
      "metadata": {
        "id": "sOdbhxzK57h6",
        "colab_type": "text"
      },
      "source": [
        "### Exercício 5.1.3\n",
        "\n",
        "Crie o arquivo ```resultado.txt``` dentro do diretório ```content``` (que é o diretório padrão).\n",
        "\n",
        "Este arquivo deve conter os valores dos quadrados dos 10 primeiros inteiros positivos (começando por 1).\n",
        "\n",
        "*Sugestão*: \n",
        "Para delimitar uma linha em um arquivo, chame o método ```write``` passando a string ```'\\n'```.\n"
      ]
    },
    {
      "cell_type": "code",
      "metadata": {
        "id": "rvbNTUYf6iE7",
        "colab_type": "code",
        "colab": {}
      },
      "source": [
        "arquivo = open(\"resultado.txt\", \"tw\")\n",
        "\n",
        "for i in range(1, 11):\n",
        "  arquivo.write(str(i**2))\n",
        "  arquivo.write('\\n')\n",
        "\n",
        "arquivo.close()"
      ],
      "execution_count": 0,
      "outputs": []
    },
    {
      "cell_type": "markdown",
      "metadata": {
        "id": "UE09_Kxb6i-h",
        "colab_type": "text"
      },
      "source": [
        "Teste a sua resposta"
      ]
    },
    {
      "cell_type": "code",
      "metadata": {
        "id": "DI-hOzxP6lVt",
        "colab_type": "code",
        "colab": {
          "base_uri": "https://localhost:8080/",
          "height": 38
        },
        "outputId": "968d99ab-3434-489b-e84f-58fe4a674ef2"
      },
      "source": [
        "ceai_python_aula07.valida_ex_05_01_03()"
      ],
      "execution_count": 82,
      "outputs": [
        {
          "output_type": "execute_result",
          "data": {
            "text/html": [
              "<div style=\"border-style:solid;border-color:green\">Exercício Correto!</div>"
            ],
            "text/plain": [
              "<ceai_python_aula07.SolucaoResultado at 0x7fa071234c18>"
            ]
          },
          "metadata": {
            "tags": []
          },
          "execution_count": 82
        }
      ]
    },
    {
      "cell_type": "markdown",
      "metadata": {
        "id": "THM5xJGDoz_A",
        "colab_type": "text"
      },
      "source": [
        "## 5.2 Processando dados em JSON.\n",
        "\n",
        "O formato JSON (JavaScript Object Notation) tem tornado-se cada vez mais prevalente na internet para intercâmbio de objetos.\n",
        "\n",
        "Este é um formato que codifica objetos compostos em um formato similar ao da linguagem JavaScript.\n",
        "\n",
        "O Módulo ```json``` é capaz de codificar e decodificar tipos básicos em python bem como boa parte dos tipos agregados, como sequências, strings e dicionários.\n",
        "\n",
        "O exemplo a seguir mostra a codificação em JSON de tipos básicos e alguns agregados."
      ]
    },
    {
      "cell_type": "code",
      "metadata": {
        "id": "rbgteJZbp_eI",
        "colab_type": "code",
        "outputId": "c98d341e-9394-438e-d2d3-402bfa81fa68",
        "colab": {
          "base_uri": "https://localhost:8080/",
          "height": 134
        }
      },
      "source": [
        "import json\n",
        "\n",
        "print(json.dumps(1))\n",
        "print(json.dumps(0.001))\n",
        "print(json.dumps('teste'))\n",
        "print(json.dumps([1,2,3]))\n",
        "print(json.dumps({'chave 1': 1}))\n",
        "print(json.dumps({1: 1}))\n",
        "print(json.dumps((1,2,3)))"
      ],
      "execution_count": 74,
      "outputs": [
        {
          "output_type": "stream",
          "text": [
            "1\n",
            "0.001\n",
            "\"teste\"\n",
            "[1, 2, 3]\n",
            "{\"chave 1\": 1}\n",
            "{\"1\": 1}\n",
            "[1, 2, 3]\n"
          ],
          "name": "stdout"
        }
      ]
    },
    {
      "cell_type": "markdown",
      "metadata": {
        "id": "SbTmdcI9ru2P",
        "colab_type": "text"
      },
      "source": [
        "Observe como a sintaxe da codificação é virtualmente idêntica a da linguagem Python.\n",
        "Uma notória exceção é a codificação de tuplas, que são condificadas como sequências, e das chaves de dicionários, que são *sempre* convertidas para Strings.\n",
        "\n",
        "### Exercício 5.2.1\n",
        "\n",
        "Escreva um arquivo "
      ]
    },
    {
      "cell_type": "code",
      "metadata": {
        "id": "on7v781utbwf",
        "colab_type": "code",
        "colab": {}
      },
      "source": [
        ""
      ],
      "execution_count": 0,
      "outputs": []
    },
    {
      "cell_type": "markdown",
      "metadata": {
        "id": "ws9lZcGNtcOm",
        "colab_type": "text"
      },
      "source": [
        "Verifique sua resposta:"
      ]
    },
    {
      "cell_type": "code",
      "metadata": {
        "id": "254-qQ2gtdub",
        "colab_type": "code",
        "colab": {}
      },
      "source": [
        "ceai_python_aula07.valida_ex_05_02_01()"
      ],
      "execution_count": 0,
      "outputs": []
    },
    {
      "cell_type": "markdown",
      "metadata": {
        "id": "cfg4lYaWbAvq",
        "colab_type": "text"
      },
      "source": [
        "## 5.3 Acessando recursos da rede com o pacote ```urllib```\n",
        "\n",
        "O pacote ```urllib``` é um pacote que permite acessar recursos na Internet por meio de suas urls.\n",
        "\n",
        "O resultado de uma solicitação http é um objeto do tipo ```HTTPRequest```. Este objeto é relativamente complexo, dada a versatilidade do protocolo http.\n",
        "\n",
        "Exemplo: O código abaixo recupera o endereço IP da máquina atual pela url [https://api6.ipify.org/](https://api6.ipify.org/).\n"
      ]
    },
    {
      "cell_type": "code",
      "metadata": {
        "id": "XNK-tnIcgRNH",
        "colab_type": "code",
        "outputId": "6258e38b-9aec-4513-c676-a4c4bef21fb0",
        "colab": {
          "base_uri": "https://localhost:8080/",
          "height": 34
        }
      },
      "source": [
        "import urllib\n",
        "resposta = urllib.request.urlopen('https://api6.ipify.org/')\n",
        "codificacao='UTF-8'\n",
        "for content_spec in resposta.headers['Content-Type'].split(';'):\n",
        "    if content_spec.startswith('charset'):\n",
        "      encoding = content_spec.split('=')[1].lstrip()\n",
        "print(resposta.read().decode(codificacao))"
      ],
      "execution_count": 83,
      "outputs": [
        {
          "output_type": "stream",
          "text": [
            "34.73.53.21\n"
          ],
          "name": "stdout"
        }
      ]
    },
    {
      "cell_type": "markdown",
      "metadata": {
        "id": "w6uaqgDuhG5H",
        "colab_type": "text"
      },
      "source": [
        "### Exercício 5.3.1\n",
        "\n",
        "Crie uma função que retorna a hora do dia em São Paulo.\n",
        "Use a URL [http://worldtimeapi.org/api/timezone/America/Sao_Paulo](http://worldtimeapi.org/api/timezone/America/Sao_Paulo).\n",
        "\n",
        "*Atenção!* O resultado desta busca é um JSON.\n",
        "Use a função ```json.loads(string)``` para converter uma string em um dicionário.\n",
        "\n",
        "A data e hora do dia será armazenada em uma string no dicionário sobre a chave ```datetime``` e em uma string.\n",
        "\n",
        "Você deve retornar esta string."
      ]
    },
    {
      "cell_type": "code",
      "metadata": {
        "id": "7sDfv9Iqlq6I",
        "colab_type": "code",
        "colab": {}
      },
      "source": [
        "def recupera_datetime_online():\n",
        "  url = urllib.request.urlopen('http://worldtimeapi.org/api/timezone/America/Sao_Paulo')\n",
        "  convert = json.loads(url.readline())\n",
        "  return convert['datetime']"
      ],
      "execution_count": 0,
      "outputs": []
    },
    {
      "cell_type": "markdown",
      "metadata": {
        "id": "bJNjkVt01lt_",
        "colab_type": "text"
      },
      "source": [
        "Verifique sua resposta:"
      ]
    },
    {
      "cell_type": "code",
      "metadata": {
        "id": "Srn5A6Q-1ndq",
        "colab_type": "code",
        "colab": {
          "base_uri": "https://localhost:8080/",
          "height": 38
        },
        "outputId": "7f71935b-8072-455a-85ec-2398aa495fd4"
      },
      "source": [
        "ceai_python_aula07.valida_ex_05_03_01(recupera_datetime_online)"
      ],
      "execution_count": 101,
      "outputs": [
        {
          "output_type": "execute_result",
          "data": {
            "text/html": [
              "<div style=\"border-style:solid;border-color:green\">Exercício Correto!</div>"
            ],
            "text/plain": [
              "<ceai_python_aula07.SolucaoResultado at 0x7fa070c90780>"
            ]
          },
          "metadata": {
            "tags": []
          },
          "execution_count": 101
        }
      ]
    }
  ]
}